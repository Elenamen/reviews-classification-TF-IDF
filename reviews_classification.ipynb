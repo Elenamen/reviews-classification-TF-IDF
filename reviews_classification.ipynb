{
 "cells": [
  {
   "cell_type": "code",
   "execution_count": 38,
   "metadata": {},
   "outputs": [],
   "source": [
    "import numpy as np\n",
    "import pandas as pd\n",
    "import matplotlib.pyplot as plt\n",
    "# import spacy\n",
    "# nlp = spacy.load('en_core_web_sm')\n",
    "import string\n",
    "from sklearn.svm import LinearSVC\n",
    "from sklearn.feature_extraction.text import TfidfVectorizer\n",
    "from sklearn.pipeline import Pipeline\n",
    "from sklearn.model_selection import train_test_split\n",
    "from sklearn.metrics import accuracy_score, classification_report, confusion_matrix"
   ]
  },
  {
   "cell_type": "markdown",
   "metadata": {},
   "source": [
    "# data loading/examination"
   ]
  },
  {
   "cell_type": "code",
   "execution_count": null,
   "metadata": {},
   "outputs": [],
   "source": [
    "data_yelp = pd.read_csv('C:/Users/Elena/Desktop/tutorials/NLP projs/review_classification/yelp_labelled.txt', sep='\\t',header=None)\n",
    "data_amazon = pd.read_csv('C:/Users/Elena/Desktop/tutorials/NLP projs/review_classification/amazon_cells_labelled.txt', sep='\\t',header=None)\n",
    "data_imdb = pd.read_csv('C:/Users/Elena/Desktop/tutorials/NLP projs/review_classification/imdb_labelled.txt', sep='\\t',header=None)\n",
    "\n",
    "# assing column names\n",
    "columan_name = ['Review', 'Sentiment']\n",
    "data_yelp.columns = columan_name\n",
    "data_amazon.columns = columan_name\n",
    "data_imdb.columns = columan_name\n",
    "\n",
    "data_amazon.head()\n",
    "\n",
    "# append all data in a single dataframe\n",
    "data = data_yelp.append([data_amazon, data_imdb],ignore_index=True)\n",
    "\n",
    "# check for null values\n",
    "data.isnull().sum()\n",
    "\n",
    "# assign classes\n",
    "x = data['Review']\n",
    "y = data['Sentiment']"
   ]
  },
  {
   "cell_type": "code",
   "execution_count": null,
   "metadata": {},
   "outputs": [],
   "source": [
    "data"
   ]
  },
  {
   "cell_type": "markdown",
   "metadata": {},
   "source": [
    "# data cleaning"
   ]
  },
  {
   "cell_type": "code",
   "execution_count": null,
   "metadata": {},
   "outputs": [],
   "source": [
    "def text_data_cleaning(sentence):\n",
    "    doc = nlp(sentence)\n",
    "\n",
    "    tokens = [] # list of tokens\n",
    "    for token in doc:\n",
    "        if token.lemma_ != \"-PRON-\":\n",
    "            temp = token.lemma_.lower().strip()\n",
    "        else:\n",
    "            temp = token.lower_\n",
    "        tokens.append(temp)\n",
    " \n",
    "    cleaned_tokens = []\n",
    "    for token in tokens:\n",
    "        if token not in stopwords and token not in punct:\n",
    "            cleaned_tokens.append(token)\n",
    "    return cleaned_tokens\n",
    "\n"
   ]
  },
  {
   "cell_type": "markdown",
   "metadata": {},
   "source": [
    "# TF-IDF Vectorization "
   ]
  },
  {
   "cell_type": "code",
   "execution_count": 37,
   "metadata": {},
   "outputs": [],
   "source": [
    "tfidf = TfidfVectorizer(tokenizer=text_data_cleaning)\n",
    "# tokenizer=text_data_cleaning will be done according to this function \n",
    "classifier = LinearSVC()\n",
    "x_train, x_test, y_train, y_test = train_test_split(x, y, test_size = 0.2, random_state = 0)\n",
    "\n",
    "# pipeline, it will first do vectorization and it will proceed with classification\n",
    "clf = Pipeline([('tfidf',tfidf), ('clf',classifier)])\n",
    "\n",
    "clf.fit(x_train, y_train)\n",
    "y_pred = clf.predict(x_test)\n",
    "confusion_matrix(y_test, y_pred)\n",
    "print(classification_report(y_test, y_pred))\n"
   ]
  }
 ],
 "metadata": {
  "kernelspec": {
   "display_name": "Python 3",
   "language": "python",
   "name": "python3"
  },
  "language_info": {
   "codemirror_mode": {
    "name": "ipython",
    "version": 3
   },
   "file_extension": ".py",
   "mimetype": "text/x-python",
   "name": "python",
   "nbconvert_exporter": "python",
   "pygments_lexer": "ipython3",
   "version": "3.8.5"
  }
 },
 "nbformat": 4,
 "nbformat_minor": 4
}
